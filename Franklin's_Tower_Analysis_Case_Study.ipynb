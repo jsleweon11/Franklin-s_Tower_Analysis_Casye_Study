{
  "nbformat": 4,
  "nbformat_minor": 0,
  "metadata": {
    "colab": {
      "provenance": [],
      "authorship_tag": "ABX9TyMbKNrH1Vb/bFzd/BA5zDbp",
      "include_colab_link": true
    },
    "kernelspec": {
      "name": "python3",
      "display_name": "Python 3"
    },
    "language_info": {
      "name": "python"
    }
  },
  "cells": [
    {
      "cell_type": "markdown",
      "metadata": {
        "id": "view-in-github",
        "colab_type": "text"
      },
      "source": [
        "<a href=\"https://colab.research.google.com/github/jsleweon11/Franklin-s_Tower_Analysis_Casye_Study/blob/main/Franklin's_Tower_Analysis_Case_Study.ipynb\" target=\"_parent\"><img src=\"https://colab.research.google.com/assets/colab-badge.svg\" alt=\"Open In Colab\"/></a>"
      ]
    },
    {
      "cell_type": "code",
      "source": [
        "# Save the code as a Python script to make it downloadable\n",
        "code = \"\"\"\n",
        "import numpy as np\n",
        "import pandas as pd\n",
        "\n",
        "# Property and financial details\n",
        "units = 150\n",
        "gross_sq_ft = 150000\n",
        "net_rentable_sq_ft = 120000\n",
        "current_occupancy = 0.60\n",
        "purchase_price_per_unit = 315000\n",
        "initial_rent_per_sq_ft_per_month = 3.75\n",
        "operating_expenses_annual = 2000000\n",
        "operating_expenses_growth = 0.03\n",
        "vacancy_rate_stabilized = 0.05\n",
        "closing_costs = 200000\n",
        "\n",
        "# Debt details\n",
        "interest_rate = 0.035\n",
        "amortization_period = 30\n",
        "term_years = 7\n",
        "max_ltv = 0.70\n",
        "cap_rate = 0.05\n",
        "min_dscr = 1.2\n",
        "closing_fees = 0.01\n",
        "\n",
        "# Calculate initial revenue\n",
        "initial_rent_annual = initial_rent_per_sq_ft_per_month * 12 * net_rentable_sq_ft\n",
        "initial_revenue = initial_rent_annual * current_occupancy\n",
        "\n",
        "# Calculate stabilized revenue\n",
        "stabilized_rent_annual = initial_rent_per_sq_ft_per_month * 12 * net_rentable_sq_ft\n",
        "stabilized_revenue = stabilized_rent_annual * (1 - vacancy_rate_stabilized)\n",
        "\n",
        "# Calculate NOI (Net Operating Income)\n",
        "noi_initial = initial_revenue - operating_expenses_annual\n",
        "noi_stabilized = stabilized_revenue - operating_expenses_annual\n",
        "\n",
        "# Calculate operating expenses over 7 years\n",
        "expenses_years = [operating_expenses_annual * ((1 + operating_expenses_growth) ** year) for year in range(8)]\n",
        "\n",
        "# Function to calculate IRR\n",
        "def calculate_irr(cash_flows):\n",
        "    return np.irr(cash_flows)\n",
        "\n",
        "# Function to calculate equity multiple\n",
        "def calculate_equity_multiple(cash_flows):\n",
        "    total_investment = -cash_flows[0]\n",
        "    total_returns = sum(cash_flows[1:])\n",
        "    return total_returns / total_investment\n",
        "\n",
        "# Initial equity investment\n",
        "initial_investment = units * purchase_price_per_unit + closing_costs\n",
        "\n",
        "# Unlevered cash flows (simplified for this example)\n",
        "unlevered_cash_flows = [-initial_investment] + [noi_stabilized - expenses_years[year] for year in range(1, 8)] + [noi_stabilized - expenses_years[7] + noi_stabilized / cap_rate]\n",
        "\n",
        "# Levered cash flows (simplified for this example)\n",
        "# Assumption: refinancing in year 2 and selling in year 7\n",
        "loan_amount = noi_stabilized / cap_rate * max_ltv\n",
        "debt_service = loan_amount * interest_rate\n",
        "levered_cash_flows = [-initial_investment] + [noi_stabilized - debt_service - expenses_years[year] for year in range(1, 8)] + [noi_stabilized - debt_service - expenses_years[7] + noi_stabilized / cap_rate]\n",
        "\n",
        "# Calculate IRR and Equity Multiple\n",
        "unlevered_irr = calculate_irr(unlevered_cash_flows)\n",
        "levered_irr = calculate_irr(levered_cash_flows)\n",
        "unlevered_equity_multiple = calculate_equity_multiple(unlevered_cash_flows)\n",
        "levered_equity_multiple = calculate_equity_multiple(levered_cash_flows)\n",
        "\n",
        "print(f\"Unlevered IRR: {unlevered_irr:.2%}\")\n",
        "print(f\"Levered IRR: {levered_irr:.2%}\")\n",
        "print(f\"Unlevered Equity Multiple: {unlevered_equity_multiple:.2f}\")\n",
        "print(f\"Levered Equity Multiple: {levered_equity_multiple:.2f}\")\n",
        "\"\"\"\n",
        "\n",
        "# Save the script to a .py file\n",
        "file_path = '/mnt/data/franklins_tower_analysis.py'\n",
        "with open(file_path, 'w') as file:\n",
        "    file.write(code)\n",
        "\n",
        "print(file_path)"
      ],
      "metadata": {
        "id": "ANO2lNCjFSEd"
      },
      "execution_count": null,
      "outputs": []
    }
  ]
}